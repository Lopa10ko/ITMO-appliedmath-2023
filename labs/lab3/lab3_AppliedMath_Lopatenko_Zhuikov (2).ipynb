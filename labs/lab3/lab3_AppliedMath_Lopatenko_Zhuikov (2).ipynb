{
  "nbformat": 4,
  "nbformat_minor": 0,
  "metadata": {
    "colab": {
      "provenance": [],
      "toc_visible": true
    },
    "kernelspec": {
      "name": "python3",
      "display_name": "Python 3"
    },
    "language_info": {
      "name": "python"
    }
  },
  "cells": [
    {
      "cell_type": "code",
      "execution_count": 59,
      "metadata": {
        "id": "4msY2KN0MNS8"
      },
      "outputs": [],
      "source": [
        "%config InlineBackend.figure_format = 'retina'"
      ]
    },
    {
      "cell_type": "code",
      "source": [
        "import math\n",
        "import numpy as np\n",
        "import matplotlib.pyplot as plt\n",
        "import matplotlib.cm as cm\n",
        "import threading\n",
        "import warnings\n",
        "from typing import Tuple\n",
        "threading.stack_size(67108864)"
      ],
      "metadata": {
        "colab": {
          "base_uri": "https://localhost:8080/"
        },
        "id": "4O3azAaJMgDW",
        "outputId": "db579beb-e7c2-472e-f507-9301079a88ac"
      },
      "execution_count": 60,
      "outputs": [
        {
          "output_type": "execute_result",
          "data": {
            "text/plain": [
              "67108864"
            ]
          },
          "metadata": {},
          "execution_count": 60
        }
      ]
    },
    {
      "cell_type": "markdown",
      "source": [
        "# **Solving Systems of Linear Algebraic Equations**"
      ],
      "metadata": {
        "id": "SjPSuNXWMycC"
      }
    },
    {
      "cell_type": "markdown",
      "source": [
        "## **0. Functional and helpers**"
      ],
      "metadata": {
        "id": "qZV6hwtyLyyf"
      }
    },
    {
      "cell_type": "code",
      "source": [
        "def get_true_x(n: int) -> np.array:\n",
        "    assert n > 0, \"Parameter n should be positive integer\"\n",
        "    return np.arange(1, n + 1)"
      ],
      "metadata": {
        "id": "6VM4jx5PRfJ_"
      },
      "execution_count": 61,
      "outputs": []
    },
    {
      "cell_type": "code",
      "source": [
        "def get_matrix_cond(A: np.array) -> float:\n",
        "    svd = np.linalg.svd(A, compute_uv=False)\n",
        "    with warnings.catch_warnings():\n",
        "        warnings.filterwarnings(\"ignore\", category=RuntimeWarning)\n",
        "        cond = np.fabs(np.max(svd) / np.min(svd))\n",
        "        return cond if cond != float(\"inf\") else -1"
      ],
      "metadata": {
        "id": "II58pe7wBVOg"
      },
      "execution_count": 62,
      "outputs": []
    },
    {
      "cell_type": "code",
      "source": [
        "def generate_matrix(n: int, k: float) -> np.array:\n",
        "    A = np.random.choice([-4., -3., -2., -1., 0.], size=(n, n))\n",
        "    np.fill_diagonal(A, 0)\n",
        "    diagonal = np.zeros(n)\n",
        "    for i in range(n):\n",
        "        diagonal[i] = np.sum(abs(A[i, :]))\n",
        "    diagonal[0] += 10 ** -k\n",
        "    np.fill_diagonal(A, diagonal)\n",
        "    return np.array(A) if get_matrix_cond(A) != -1 else generate_matrix(n, k)"
      ],
      "metadata": {
        "id": "DqH5UBsR6t7f"
      },
      "execution_count": 63,
      "outputs": []
    },
    {
      "cell_type": "code",
      "source": [
        "def get_hilbert_matrix(k: int) -> np.array:\n",
        "    return np.array([[1 / (i + j + 1) for j in range(k)] for i in range(k)])"
      ],
      "metadata": {
        "id": "0Zzi9PI6MxFC"
      },
      "execution_count": 64,
      "outputs": []
    },
    {
      "cell_type": "code",
      "source": [
        "def solve_for_matrix_with_method(n: int, k: float, method) -> np.array:\n",
        "    A = generate_matrix(n, k)\n",
        "    b = A @ get_true_x(len(A))\n",
        "    print(f'Solving:\\n{A} @ x = {b}\\nx = {method(A, b)}')"
      ],
      "metadata": {
        "id": "hMYNZWq-joeY"
      },
      "execution_count": 65,
      "outputs": []
    },
    {
      "cell_type": "markdown",
      "source": [
        "## **1. Implement Gauss method with leading element selection**"
      ],
      "metadata": {
        "id": "5fGTOWAxMC19"
      }
    },
    {
      "cell_type": "markdown",
      "source": [
        "АЛГЕБРАИЧЕСКОЕ ОПИСАНИЕ МЕТОДА ГАУССА (ЧТО ДЕЛАЕМ НА КАЖДОЙ ИТЕРАЦИИ), ПРЯМОГО И ОБРАТНОГО ХОДА. ВЫДВИНУТЬ ТРЕБОВАНИЯ К МАТРИЦЕ, ЧТОБЫ СИСТЕМА БЫЛА РАЗРЕШИМА\n",
        "\n",
        "https://orion1401.gitbooks.io/numerical_analysys_python/content/metod_gaussa_s_postolbtsovim_viborom_glavnogo_elem.html"
      ],
      "metadata": {
        "id": "VbvcKyIjUaf5"
      }
    },
    {
      "cell_type": "code",
      "source": [
        "def solve_gauss_lead_selection(A: np.array, b: np.array) -> np.array:\n",
        "    # selecting leading element\n",
        "    for i in range(n := len(A)):\n",
        "        pivot_row = i + np.argmax(np.abs(A[i:, i]))\n",
        "        if i != pivot_row:\n",
        "            A[[i, pivot_row]], b[[i, pivot_row]] = A[[pivot_row, i]], b[[pivot_row, i]]\n",
        "        # converting matrix to upper-triangular form\n",
        "        for iter in range(i + 1, n):\n",
        "            u = -A[iter][i] / A[i][i]\n",
        "            A[iter, i:] += u * A[i, i:]\n",
        "            b[iter] += u * b[i]\n",
        "    # reverse gauss\n",
        "    x = np.zeros(n)\n",
        "    for i in range(n - 1, -1, -1):\n",
        "        x[i] = (b[i] - A[i, i + 1:] @ x[i + 1:]) / A[i, i]\n",
        "    return x  "
      ],
      "metadata": {
        "id": "0JXx2vCPLdbv"
      },
      "execution_count": 66,
      "outputs": []
    },
    {
      "cell_type": "code",
      "source": [
        "solve_for_matrix_with_method(n=8, k=3, method=solve_gauss_lead_selection)"
      ],
      "metadata": {
        "id": "q43Vtz0a9Rfa",
        "colab": {
          "base_uri": "https://localhost:8080/"
        },
        "outputId": "a0492b94-b5e2-42b3-d29e-a7bcff0c7251"
      },
      "execution_count": 67,
      "outputs": [
        {
          "output_type": "stream",
          "name": "stdout",
          "text": [
            "Solving:\n",
            "[[22.001 -4.    -4.    -2.    -4.    -2.    -2.    -4.   ]\n",
            " [-3.    12.     0.    -3.    -1.    -2.    -3.     0.   ]\n",
            " [-3.    -3.    18.    -4.    -4.     0.     0.    -4.   ]\n",
            " [-1.    -1.     0.    14.    -4.    -3.    -4.    -1.   ]\n",
            " [-1.     0.    -2.    -2.    10.    -1.    -1.    -3.   ]\n",
            " [ 0.    -3.     0.     0.    -1.     9.    -1.    -4.   ]\n",
            " [-2.    -1.     0.    -1.    -2.    -4.    12.    -2.   ]\n",
            " [-2.     0.    -4.    -2.    -1.    -2.     0.    11.   ]] @ x = [-83.999 -29.    -23.    -21.     -2.      4.     26.     49.   ]\n",
            "x = [1. 2. 3. 4. 5. 6. 7. 8.]\n"
          ]
        }
      ]
    },
    {
      "cell_type": "markdown",
      "source": [
        "## **2. Implement LU-decomposition method**"
      ],
      "metadata": {
        "id": "GV6-HOCSlIq4"
      }
    },
    {
      "cell_type": "markdown",
      "source": [
        "ОПИСАНИЕ ПРИНЦИПА LU РАЗЛОЖЕНИЯ. АЛГЕБРАИЧЕСКИ ДОКАЗАТЬ ВЕРНОСТЬ\n",
        "\n",
        "https://orion1401.gitbooks.io/numerical_analysys_python/content/lu_razlozhenie.html"
      ],
      "metadata": {
        "id": "hVnChBwHyGZ2"
      }
    },
    {
      "cell_type": "code",
      "source": [
        "def get_lu_decomposition(A: np.array) -> Tuple[np.array, np.array]:\n",
        "    n = len(A)\n",
        "    L, U = np.zeros([n, n]), np.zeros([n, n])\n",
        "    for i in range(n):\n",
        "        for k in range(i, n):\n",
        "            U[i][k] = A[i][k] - sum([L[i][j] * U[j][k] for j in range(i)])\n",
        "        for k in range(i, n):\n",
        "            L[k][i] = (A[k][i] - sum([L[k][j] * U[j][i] for j in range(i)])) / U[i][i] if i != k else 1.0\n",
        "    return L, U\n",
        "\n",
        "def get_lu_decomposition_vectorized(A: np.array) -> Tuple[np.array, np.array]:\n",
        "    L = np.eye(n := len(A))\n",
        "    for i in range(n):\n",
        "        L[i + 1:, i] = A[i + 1:, i] / A[i, i]\n",
        "        A[i + 1:, i:] -= L[i + 1:, i, None] * A[i, i:]\n",
        "    return L, A"
      ],
      "metadata": {
        "id": "3wdG1CKilBAI"
      },
      "execution_count": 68,
      "outputs": []
    },
    {
      "cell_type": "code",
      "source": [
        "test_matrix = np.array([[1., 2., 3.], [4., 5., 6.], [7., 8., 9.]])\n",
        "test_L, test_U = get_lu_decomposition(test_matrix)\n",
        "assert np.allclose(test_L @ test_U, test_matrix), \"wrong implementation of LU-decomposition\""
      ],
      "metadata": {
        "id": "yt2pFOa3s5MP"
      },
      "execution_count": 69,
      "outputs": []
    },
    {
      "cell_type": "markdown",
      "source": [
        "ОПИСАНИЕ МЕТОДА РЕШЕНИЯ СЛАУ МЕТОДОМ LU РАЗЛОЖЕНИЯ, ОТСЫЛКА К МЕТОДУ ГАУССА"
      ],
      "metadata": {
        "id": "XaZRbT7yUwb5"
      }
    },
    {
      "cell_type": "code",
      "source": [
        "def solve_lu_decomposition(A: np.array, b: np.array) -> np.array:\n",
        "    L, U = get_lu_decomposition(A)\n",
        "    y = np.zeros(n := len(A))\n",
        "    for i in range(n):\n",
        "        y[i] = b[i] - L[i, :i] @ y[:i]\n",
        "    x = np.zeros(n)\n",
        "    for i in range(n - 1, -1, -1):\n",
        "        x[i] = (y[i] - U[i, i + 1:] @ x[i + 1:]) / U[i, i]\n",
        "    return x"
      ],
      "metadata": {
        "id": "CD36OskXU9pS"
      },
      "execution_count": 70,
      "outputs": []
    },
    {
      "cell_type": "code",
      "source": [
        "solve_for_matrix_with_method(n=8, k=3, method=solve_lu_decomposition)"
      ],
      "metadata": {
        "colab": {
          "base_uri": "https://localhost:8080/"
        },
        "id": "5j3fBIu8Z68j",
        "outputId": "9164b0f1-4b8e-49ba-923f-0f62b9d4b450"
      },
      "execution_count": 71,
      "outputs": [
        {
          "output_type": "stream",
          "name": "stdout",
          "text": [
            "Solving:\n",
            "[[14.001 -1.    -4.     0.    -3.    -1.    -1.    -4.   ]\n",
            " [-4.    15.    -2.    -4.    -4.     0.     0.    -1.   ]\n",
            " [-1.    -2.    10.    -2.    -1.    -4.     0.     0.   ]\n",
            " [-3.     0.    -3.    16.    -3.    -3.    -3.    -1.   ]\n",
            " [-3.    -3.    -4.    -4.    24.    -3.    -4.    -3.   ]\n",
            " [-1.    -4.    -1.    -3.    -1.    15.    -1.    -4.   ]\n",
            " [-4.    -1.    -3.     0.     0.    -4.    15.    -3.   ]\n",
            " [-4.    -1.    -4.    -3.    -1.     0.    -4.    17.   ]] @ x = [-59.999 -24.    -12.    -10.     13.     22.     42.     73.   ]\n",
            "x = [1. 2. 3. 4. 5. 6. 7. 8.]\n"
          ]
        }
      ]
    },
    {
      "cell_type": "markdown",
      "source": [
        "## **3. Implement iterative Jacobi method**"
      ],
      "metadata": {
        "id": "GMaJrR1qlAGI"
      }
    },
    {
      "cell_type": "markdown",
      "source": [
        "ОПИСАНИЕ МЕТОДА ЯКОБИ"
      ],
      "metadata": {
        "id": "VjYgL4VtZ7w7"
      }
    },
    {
      "cell_type": "code",
      "source": [
        "def solve_jacobi(A: np.array, b: np.array, max_iterations=1e9, eps=1e-8) -> np.array: \n",
        "    diag_inv = np.zeros([n := len(A), n])\n",
        "    np.fill_diagonal(diag_inv, [val ** -1 if val != 0 else eps for val in np.diag(A)])\n",
        "    np.fill_diagonal(A, 0)\n",
        "    A = diag_inv @ A\n",
        "    b = diag_inv @ b\n",
        "    x = np.zeros(n)\n",
        "    for iter in range(int(max_iterations)):\n",
        "        x_curr = b - A @ x\n",
        "        if np.linalg.norm(x_curr - x) < eps:\n",
        "            break\n",
        "        x = x_curr\n",
        "    print(f\"\\nJacobi computing finished in: {iter} iterations\\n\")\n",
        "    return x"
      ],
      "metadata": {
        "id": "KJgwCZ4jlS8h"
      },
      "execution_count": 210,
      "outputs": []
    },
    {
      "cell_type": "code",
      "source": [
        "solve_for_matrix_with_method(n=4, k=4, method=solve_jacobi)"
      ],
      "metadata": {
        "colab": {
          "base_uri": "https://localhost:8080/"
        },
        "id": "Zcwv_yOPwab6",
        "outputId": "57d19b65-dd92-4b6b-a355-036bea2237db"
      },
      "execution_count": 211,
      "outputs": [
        {
          "output_type": "stream",
          "name": "stdout",
          "text": [
            "\n",
            "Jacobi computing finished in: 2314927 iterations\n",
            "\n",
            "Solving:\n",
            "[[ 9.0001 -4.     -2.     -3.    ]\n",
            " [ 0.      2.     -2.      0.    ]\n",
            " [-3.     -1.      5.     -1.    ]\n",
            " [-4.     -1.     -3.      8.    ]] @ x = [-16.9999  -2.       6.      17.    ]\n",
            "x = [0.99841785 1.99841784 2.99841784 3.99841784]\n"
          ]
        }
      ]
    }
  ]
}