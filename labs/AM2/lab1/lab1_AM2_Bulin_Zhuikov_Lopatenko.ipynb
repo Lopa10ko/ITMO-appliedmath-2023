{
  "nbformat": 4,
  "nbformat_minor": 0,
  "metadata": {
    "colab": {
      "provenance": []
    },
    "kernelspec": {
      "name": "python3",
      "display_name": "Python 3"
    },
    "language_info": {
      "name": "python"
    }
  },
  "cells": [
    {
      "cell_type": "code",
      "source": [
        "!pip install nptyping"
      ],
      "metadata": {
        "colab": {
          "base_uri": "https://localhost:8080/"
        },
        "id": "70h5JbNqFYy2",
        "outputId": "31d08d7f-35c9-4740-8303-09d893f0b122"
      },
      "execution_count": 121,
      "outputs": [
        {
          "output_type": "stream",
          "name": "stdout",
          "text": [
            "Requirement already satisfied: nptyping in /usr/local/lib/python3.10/dist-packages (2.5.0)\n",
            "Requirement already satisfied: numpy<2.0.0,>=1.20.0 in /usr/local/lib/python3.10/dist-packages (from nptyping) (1.23.5)\n"
          ]
        }
      ]
    },
    {
      "cell_type": "code",
      "execution_count": 122,
      "metadata": {
        "id": "zYmp8wH2WfxP"
      },
      "outputs": [],
      "source": [
        "%config InlineBackend.figure_format = 'retina'"
      ]
    },
    {
      "cell_type": "code",
      "source": [
        "import math\n",
        "import json\n",
        "import copy\n",
        "import pathlib\n",
        "import threading\n",
        "import numpy as np\n",
        "import typing as tp\n",
        "import nptyping as nptp\n",
        "import matplotlib.cm as cm\n",
        "import matplotlib.pyplot as plt\n",
        "from sys import setrecursionlimit\n",
        "from mpl_toolkits.mplot3d import Axes3D\n",
        "from dataclasses import dataclass, field\n",
        "setrecursionlimit(10 ** 9)\n",
        "threading.stack_size(67108864)"
      ],
      "metadata": {
        "colab": {
          "base_uri": "https://localhost:8080/"
        },
        "id": "g75XLQ6iXIP5",
        "outputId": "5089c9e8-5c4d-4d0c-c91e-e9bcc59c8e90"
      },
      "execution_count": 123,
      "outputs": [
        {
          "output_type": "execute_result",
          "data": {
            "text/plain": [
              "67108864"
            ]
          },
          "metadata": {},
          "execution_count": 123
        }
      ]
    },
    {
      "cell_type": "markdown",
      "source": [
        "# **Linear Programming**"
      ],
      "metadata": {
        "id": "dSbpSkD7YGmP"
      }
    },
    {
      "cell_type": "markdown",
      "source": [
        "The **linear programming problem** is very common in economics, medicine and other applied sciences, where it is crucial to work within a set of linear models when optimizing one linear form. There are quite a lot of interpretations, but in general all of them in one way or another come to the analysis of the matrix of restrictions, which can be specified by a system of inequalities and equations.\n",
        "\n",
        "\n",
        "In parallel reality the world is ruled by cats instead of human species and the methods of maximization (or minimization, which are essentially not much different from each other) are working on linear functions, but unfortunately this is not the case! Therefore, the task comes down to carefully constructing a set of feasible solutions and iterating through them in the direction of increasing gradient (which in the case of linear function is just one vector).\n",
        "\n",
        "---\n",
        "\n",
        "One thing to add here is that we will be working in $R^n_+$ space, since all the components in our solution are in fact non-negative values (due to specification in applied fields).\n"
      ],
      "metadata": {
        "id": "rm4a2YkFPkqz"
      }
    },
    {
      "cell_type": "markdown",
      "source": [
        "We can present the problem in standart form without losing generality!\n",
        "\n",
        "So the linear function would look like:\n",
        "$$\\sum\\limits_{j=1}^n c_jx_j \\rightarrow min (max)$$\n",
        "And the limiting inequalities would tranform from\n",
        "$\\sum\\limits_{i=1}^m a_{ij}x_j \\leq b_i$\n",
        "to a rather simple concept:\n",
        "$$x_i'=b_i-\\sum\\limits_{i=1}^m a_{ij}x_j \\geq 0$$"
      ],
      "metadata": {
        "id": "1hZUgzt6YBJr"
      }
    },
    {
      "cell_type": "markdown",
      "source": [
        "No matter how much we would like to say that only pseudocompact (closed and bounded sets) will be obtained in the process of solving restrictions systems, this is not entirely true!\n",
        "\n",
        "The theory clearly states that there is a closed space such that each internal point can be represented in one way as a linear combination of all corner points (a corner point is the point that can't be an internal point of some closed subspace), so:\n",
        "$$\\vec{x}=\\sum\\limits_{i=1}^k\\alpha_i\\vec{x_i} \\quad \\Big| \\quad\\forall\\alpha_i \\geq0:\\quad\\sum\\limits_{i=1}^k \\alpha_i = 1$$\n",
        "\n",
        "Thus, if we were to iterate over a **limited** set of corner points, we were destined to find one or an infinite number of points that maximized our linear function."
      ],
      "metadata": {
        "id": "OQp2iEhgaVE8"
      }
    },
    {
      "cell_type": "markdown",
      "source": [
        "---\n",
        "\n",
        "**(Th.)** show that our optimal point should be one in a corner points subset.\n",
        "\n",
        "$\\bullet$ prove by contradiction, so let's assume that there is an optimal point $x^{(0)}$ that does not coincide with the corner one and in terms of maximizing $\\forall x \\in E:f(x^{(0)}) \\geq f(x)$,\n",
        "well let's look closely on  that **internal** point:\n",
        "$$f(x^{(0)})=\\sum\\limits_{i=1}^k \\alpha_if(\\vec{x_i}) \\leq max(f(\\vec{x_i})) \\sum\\limits_{i=1}^k = f(x_k)$$\n",
        "but that is contradiction!"
      ],
      "metadata": {
        "id": "UPnCq5rheUfq"
      }
    },
    {
      "cell_type": "markdown",
      "source": [
        "$q(x)=c_{1}x_1+c_{2}x_2\\rightarrow max$\n",
        "\n",
        "$a_{11}x_1+a_{12}x_2=b_1$\n",
        "\n",
        "$a_{21}x1+a_{22}x_2\\leq b_2$\n",
        "\n",
        "$a_{31}x1+a_{32}x_2\\geq b_3$\n",
        "\n",
        "\n",
        "|element|coeff|$-x1$    |$-x2$    |$b$  |\n",
        "|:-----:|:---:|:-------:|:-------:|:---:|\n",
        "|$x3$   |0    |$a_{11}$ |$a_{12}$ |$b_1$|\n",
        "|$x4$   |1    |$a_{21}$ |$a_{22}$ |$b_2$|\n",
        "|$x5$   |1    |$-a_{31}$|$-a_{32}$|$-b_3$|\n",
        "|$q(x)$ |2    |$-c_{1}$ |$-c_{1}$ |0    |"
      ],
      "metadata": {
        "id": "1au4kNJ9wY5Z"
      }
    },
    {
      "cell_type": "markdown",
      "source": [
        "## **0. Functional and helpers**"
      ],
      "metadata": {
        "id": "Pem-MGoRYQzQ"
      }
    },
    {
      "cell_type": "code",
      "source": [
        "@dataclass()\n",
        "class LinearConstraint:\n",
        "    coefs: list[float] = field(default_factory=list)\n",
        "    ctype: str = field(default_factory=lambda: \"\")\n",
        "    b: float = 0.0\n",
        "    is_term_added: bool = False\n",
        "\n",
        "    def __post_init__(self) -> None:\n",
        "        self.add_terms()\n",
        "\n",
        "    def add_terms(self) -> None:\n",
        "        match self.ctype:\n",
        "            case 'eq':\n",
        "                pass\n",
        "            case 'gte':\n",
        "                self.coefs = [-coef for coef in self.coefs]\n",
        "                self.b *= -1\n",
        "                self.is_term_added = True\n",
        "            case 'lte':\n",
        "                self.is_term_added = True\n",
        "            case _:\n",
        "                raise ValueError(f'Error: unable to parse mode {self.ctype}')"
      ],
      "metadata": {
        "id": "clBJbjwNaGkk"
      },
      "execution_count": 124,
      "outputs": []
    },
    {
      "cell_type": "code",
      "source": [
        "@dataclass()\n",
        "class Solution:\n",
        "    matrix: nptp.NDArray\n",
        "    basis: nptp.NDArray\n",
        "    columns: nptp.NDArray\n",
        "\n",
        "    def __init__(self, file_path: str):\n",
        "        self.matrix = self.parse(self.validate_path(file_path))\n",
        "        shape = self.matrix.shape\n",
        "        self.basis, self.columns = np.arange(shape[1] - 1, shape[1] + shape[0] - 2), np.arange(shape[1] - 1)\n",
        "\n",
        "    @staticmethod\n",
        "    def parse(file_path: str) -> nptp.NDArray:\n",
        "        f_coefs, constraints, goal = [], [], \"\"\n",
        "        with open(file_path, \"r\") as file_:\n",
        "            data = json.loads(file_.read())\n",
        "            goal = Solution.validate_goal(data['goal'])\n",
        "            f_coefs = [-coef if goal == 'max' else coef for coef in data['f']]\n",
        "            for constraint in data['constraints']:\n",
        "                constraints.append(\n",
        "                    LinearConstraint(\n",
        "                        coefs=constraint['coefs'],\n",
        "                        ctype=constraint['type'],\n",
        "                        b=constraint['b']\n",
        "                        )\n",
        "                    )\n",
        "        return Solution.get_simplex_matrix(constraints, f_coefs)\n",
        "\n",
        "    @staticmethod\n",
        "    def get_simplex_matrix(constraints: list[LinearConstraint], f_coefs: list[float | int]) -> nptp.NDArray:\n",
        "        raw_matrix = []\n",
        "        for constraint in constraints:\n",
        "            if constraint.is_term_added:\n",
        "                raw_matrix.append([1.0] + constraint.coefs + [constraint.b])\n",
        "            else:\n",
        "                raw_matrix.append([1.0] + constraint.coefs + [constraint.b])\n",
        "                raw_matrix.append([1.0] + [-coef for coef in constraint.coefs] + [-constraint.b])\n",
        "        raw_matrix.append([2.0] + f_coefs + [0.0])\n",
        "        return Solution.sort_matrix(raw_matrix)\n",
        "\n",
        "    @staticmethod\n",
        "    def sort_matrix(unsorted_matrix: list[list[float | int]]) -> nptp.NDArray:\n",
        "        return np.array(\n",
        "            sorted(unsorted_matrix, key=lambda x: x[0]),\n",
        "            dtype=np.float64\n",
        "            )\n",
        "\n",
        "    @staticmethod\n",
        "    def validate_path(path: str) -> str:\n",
        "        if not pathlib.Path(path).is_file():\n",
        "            raise ValueError(f'Error: no file with path {path}')\n",
        "        return path\n",
        "\n",
        "    @staticmethod\n",
        "    def validate_goal(goal: str) -> str:\n",
        "        if goal not in ('max', 'min'):\n",
        "            raise ValueError(f'Error: unable to parse mode {goal}')\n",
        "        return goal\n",
        "\n",
        "    def solve(self, *, verbose: bool = False) -> nptp.NDArray | str | None:\n",
        "        self.get_initial_plan()\n",
        "        return self.get_optimal_plan(verbose=verbose)\n",
        "\n",
        "    def get_initial_plan(self) -> None:\n",
        "        while any(self.matrix[:-1, -1] < 0):\n",
        "            i = int(np.argmax(self.matrix[:-1, -1] < 0))\n",
        "            if all(self.matrix[i, 1:-1] >= 0):\n",
        "                raise ValueError(f'Error: could not get initial plan for {self.matrix}')\n",
        "            l = int(np.argmax(self.matrix[i, :-1] < 0))\n",
        "            self.transform_jordan(\n",
        "                *self.get_resolving(\n",
        "                    initial_row=i,\n",
        "                    initial_column=l\n",
        "                    )\n",
        "                )\n",
        "\n",
        "    def get_optimal_plan(self, verbose: bool) -> nptp.NDArray | str | None:\n",
        "        while any(self.matrix[-1, 1:-1] < 0):\n",
        "            l = int(np.argmax(self.matrix[-1, 1:-1] < 0)) + 1\n",
        "            if all(self.matrix[:-1, l] <= 0):\n",
        "                if verbose:\n",
        "                    print(f'Linear function is unbound')\n",
        "                return self.get_current_solution(verbose=verbose)\n",
        "            i = int(np.argmax(self.matrix[:-1, l] > 0))\n",
        "            self.transform_jordan(\n",
        "                *self.get_resolving(\n",
        "                    initial_row=i,\n",
        "                    initial_column=l\n",
        "                    )\n",
        "                )\n",
        "\n",
        "    def get_resolving(self, initial_row: int, initial_column: int) -> tuple[int, int]:\n",
        "        row, column = initial_row, initial_column\n",
        "        min_ratio = float('inf')\n",
        "        for r in range(len(self.matrix) - 1):\n",
        "            if self.matrix[r][column] != 0:\n",
        "                ratio = self.matrix[r][-1] / self.matrix[r][column]\n",
        "                if 0 < ratio < min_ratio:\n",
        "                    min_ratio = ratio\n",
        "                    row = r\n",
        "        return row, column\n",
        "\n",
        "    def transform_jordan(self, row: int, column: int) -> None:\n",
        "        new_matrix = copy.copy(self.matrix)\n",
        "        kernel = self.matrix[row][column]\n",
        "        self.columns[column], self.basis[row] = self.basis[row], self.columns[column]\n",
        "        shape_ = self.matrix.shape\n",
        "        # TODO: delete print\n",
        "        print(kernel, row, column)\n",
        "        for i in range(shape_[0]):\n",
        "            for j in range(shape_[1]):\n",
        "                if i == row and j == column:\n",
        "                    new_matrix[i][j] = 1 / kernel\n",
        "                elif j == column:\n",
        "                    new_matrix[i][j] = -self.matrix[i][j] / kernel\n",
        "                elif i == row:\n",
        "                    new_matrix[i][j] = self.matrix[i][j] / kernel\n",
        "                else:\n",
        "                    new_matrix[i][j] = self.matrix[i][j] - self.matrix[row][j] * self.matrix[i][column] / kernel\n",
        "        self.matrix = new_matrix\n",
        "        # TODO: delete print\n",
        "        print(new_matrix)\n",
        "\n",
        "    def get_current_solution(self, *, verbose: bool = False) -> nptp.NDArray | str:\n",
        "        n = len(self.basis) + len(self.columns) - 1\n",
        "        result = np.array([0.0 for _ in range(n)])\n",
        "        for base, value in zip(self.basis, self.matrix[:-1, -1]):\n",
        "            result[base - 1] = value\n",
        "        if verbose:\n",
        "            return f'Current solution: {result}\\nLinear form value: {abs(self.matrix[-1, -1])}\\n'\n",
        "        return result"
      ],
      "metadata": {
        "id": "aGXCkO_5YGT2"
      },
      "execution_count": 129,
      "outputs": []
    },
    {
      "cell_type": "markdown",
      "source": [
        "## **1. Testing and benchmarking**"
      ],
      "metadata": {
        "id": "VTJJWUmKLDMz"
      }
    },
    {
      "cell_type": "code",
      "source": [
        "s = Solution(\"/content/drive/MyDrive/Colab Notebooks/example1.json\")"
      ],
      "metadata": {
        "id": "Yae92fGTYmNW"
      },
      "execution_count": 130,
      "outputs": []
    },
    {
      "cell_type": "code",
      "source": [
        "s"
      ],
      "metadata": {
        "colab": {
          "base_uri": "https://localhost:8080/"
        },
        "id": "SApgzCD-vDbM",
        "outputId": "97272279-914d-43cc-f83f-b49fced9adb4"
      },
      "execution_count": 131,
      "outputs": [
        {
          "output_type": "execute_result",
          "data": {
            "text/plain": [
              "Solution(matrix=array([[  1.,  -3.,   2.,   4.],\n",
              "       [  1.,   1.,   5.,  20.],\n",
              "       [  1.,   4., -13., -30.],\n",
              "       [  2.,   1.,   2.,   0.]]), basis=array([3, 4, 5]), columns=array([0, 1, 2]))"
            ]
          },
          "metadata": {},
          "execution_count": 131
        }
      ]
    },
    {
      "cell_type": "code",
      "source": [
        "s.solve()"
      ],
      "metadata": {
        "colab": {
          "base_uri": "https://localhost:8080/"
        },
        "id": "ZbqW9JbuvCBF",
        "outputId": "12fdf4dd-01f1-4e77-fe59-c653d8e74389"
      },
      "execution_count": 132,
      "outputs": [
        {
          "output_type": "stream",
          "name": "stdout",
          "text": [
            "2.0 0 2\n",
            "[[  0.5  -1.5   0.5   2. ]\n",
            " [ -1.5   8.5  -2.5  10. ]\n",
            " [  7.5 -15.5   6.5  -4. ]\n",
            " [  1.    4.   -1.   -4. ]]\n",
            "-15.5 2 1\n",
            "[[-0.22580645 -0.09677419 -0.12903226  2.38709677]\n",
            " [ 2.61290323  0.5483871   1.06451613  7.80645161]\n",
            " [-0.48387097 -0.06451613 -0.41935484  0.25806452]\n",
            " [ 2.93548387  0.25806452  0.67741935 -5.03225806]]\n"
          ]
        }
      ]
    },
    {
      "cell_type": "code",
      "source": [
        "s"
      ],
      "metadata": {
        "colab": {
          "base_uri": "https://localhost:8080/"
        },
        "id": "RFIPo3b22SKw",
        "outputId": "8aab543d-88e0-489d-c0a6-308cb12829d0"
      },
      "execution_count": 133,
      "outputs": [
        {
          "output_type": "execute_result",
          "data": {
            "text/plain": [
              "Solution(matrix=array([[-0.22580645, -0.09677419, -0.12903226,  2.38709677],\n",
              "       [ 2.61290323,  0.5483871 ,  1.06451613,  7.80645161],\n",
              "       [-0.48387097, -0.06451613, -0.41935484,  0.25806452],\n",
              "       [ 2.93548387,  0.25806452,  0.67741935, -5.03225806]]), basis=array([2, 4, 1]), columns=array([0, 5, 3]))"
            ]
          },
          "metadata": {},
          "execution_count": 133
        }
      ]
    },
    {
      "cell_type": "code",
      "source": [
        "print(s.get_current_solution(verbose=True))"
      ],
      "metadata": {
        "colab": {
          "base_uri": "https://localhost:8080/"
        },
        "id": "I_Rnz5IA9Iw-",
        "outputId": "6b2f3301-0c52-4ea9-9a73-468852b6029a"
      },
      "execution_count": 134,
      "outputs": [
        {
          "output_type": "stream",
          "name": "stdout",
          "text": [
            "Current solution: [0.25806452 2.38709677 0.         7.80645161 0.        ]\n",
            "Linear form value: 5.032258064516129\n",
            "\n"
          ]
        }
      ]
    },
    {
      "cell_type": "markdown",
      "source": [
        "## **2. My honest opinion**"
      ],
      "metadata": {
        "id": "UZWi7Ei4LQqk"
      }
    }
  ]
}